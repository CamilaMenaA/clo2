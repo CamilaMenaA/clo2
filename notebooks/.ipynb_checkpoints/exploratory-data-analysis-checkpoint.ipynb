{
 "cells": [
  {
   "cell_type": "markdown",
   "id": "deea54e8",
   "metadata": {},
   "source": [
    "<center>\n",
    "    <img src=\"http://sct.inf.utfsm.cl/wp-content/uploads/2020/04/logo_di.png\" style=\"width:60%\">\n",
    "    <h1> INF-280 - Estadística Computacional </h1>\n",
    "    <h2> Análisis de datos exploratorio </h2>\n",
    "</center>"
   ]
  },
  {
   "cell_type": "markdown",
   "id": "e8fe8bdd",
   "metadata": {},
   "source": [
    "## Contenidos\n",
    "\n",
    "* [Introducción](#intro)\n",
    "* [Reglamento](#rules)\n",
    "* [Contexto Data Science](#ds)\n",
    "* [Toolbox](#toolbox)\n",
    "* [Proyecto](#project)"
   ]
  },
  {
   "cell_type": "markdown",
   "id": "0cf138bb",
   "metadata": {},
   "source": [
    "<div id='intro' />\n",
    "\n",
    "## Introducción\n",
    "\n",
    "Los laboratorios de estadística computacional (LEC) tienen como objetivo principal analizar datos utilizando técnicas de visualización y evidenciar el comportamiento estocástico de experimentos aleatorios mediante simulaciones computacionales. \n",
    "\n",
    "Las experiencias buscan medir la habilidad de programación en Python, la capacidad de análisis y la comprensión de artículos/papers.\n",
    "\n",
    "Recuerde que los laboratorios tienen una ponderación de 40% en la nota final del ramo. Es"
   ]
  },
  {
   "cell_type": "markdown",
   "id": "8cbdc63b",
   "metadata": {},
   "source": [
    "<div id='reglamento' />\n",
    "\n",
    "## Reglamento"
   ]
  },
  {
   "cell_type": "markdown",
   "id": "65a6e5d8",
   "metadata": {},
   "source": [
    "1. El desarrollo de los laboratorios debe ser en **Python**.\n",
    "2. El formato de entrega es un **archivo .ipynb**, es decir, un jupyter notebook.\n",
    "3. El nombre del archivo de entrega del laboratorio $i$ debe seguir el siguiente formato: *lec-i-nombregrupo.ipynb*.\n",
    "4. Se recomienda seguir las recomendaciones de estilo descritas en [PEP 8](https://www.python.org/dev/peps/pep-0008/) para su codigo.\n",
    "5. El tiempo para la realización de los laboratorios es extenso, por lo que solo se recibirán entregas hasta las 23:59 del día de entrega **a menos que se especifique lo contrario**. Entregas fuera del plazo serán calificadas con nota 0.\n",
    "6. Antes de entregar su laboratorio verifique su **reproducibilidad**. Laboratorios con errores a la hora de ejecutarse serán penalizados con descuentos."
   ]
  },
  {
   "cell_type": "markdown",
   "id": "2cd852df",
   "metadata": {},
   "source": [
    "<div id='ds' />\n",
    "\n",
    "## Contexto Ciencia de datos"
   ]
  },
  {
   "cell_type": "markdown",
   "id": "db791d7f",
   "metadata": {},
   "source": [
    "La ciencia de datos es un **campo interdisciplinario** que mediante un conjunto de principios, definiciones de problemas, algoritmos y procesos busca **extraer patrones no obvios** de grandes conjuntos de datos. Las habilidades más demandadas en el contexto de la ciencia de datos son:\n",
    "\n",
    "1. Programación.\n",
    "2. Bases de datos.\n",
    "3. Estadística.\n",
    "4. Probabilidad.\n",
    "5. Machine learning.\n",
    "\n",
    "A lo largo de los laboratorios se experimentará computacionalmente con la **estadística** y la **probablidad**, además se desarrollara un nivel más avanzado de **programacion** en Python mediante algunas poderosas librerías.\n",
    "\n",
    "El análisis de datos es una tarea crucial en todo proyecto de ciencia de datos, generalmente consiste en las siguientes tareas:\n",
    "\n",
    "1. Data collection.\n",
    "2. Data preprocessing.\n",
    "3. Data cleaning.\n",
    "4. Exploratory data analysis.\n",
    "5. Data visualization / communication.\n",
    "\n",
    "Es importante recalcar que este proceso no es lineal, sino que más bien iterativo. A lo largo de los laboratorios, y en particular en este, realizaremos múltiples análisis de datos.\n",
    "\n",
    "Los LEC conforman una importante instancia de acercamiento a la ciencia de datos. Espero la disfruten."
   ]
  },
  {
   "cell_type": "markdown",
   "id": "e6eaf3f4",
   "metadata": {},
   "source": [
    "<div id='toolbox' />\n",
    "\n",
    "## Toolbox"
   ]
  },
  {
   "cell_type": "markdown",
   "id": "33fb20ca",
   "metadata": {},
   "source": [
    "La caja de herramientas (stack de tecnologias) está conformada por:\n",
    "1. Python.\n",
    "2. Numpy.\n",
    "3. Pandas.\n",
    "4. SciPy.\n",
    "5. Matplotlib.\n",
    "6. Plotly.\n",
    "7. [Deep note](https://deepnote.com) (*).\n",
    "\n",
    "(*) Deep note es un poderoso notebook (a pesar de estar en versión Beta) que permite el trabajo colaborativo sin los problemas de Google Colab asociados a la edición simultánea. Usted es libre de utilizar o no Deep note. Algunas interesantes alternativas son [Cocalc](https://cocalc.com/), [Colab](https://colab.research.google.com/) y por supuesto [Anaconda](https://www.anaconda.com/products/individual#Downloads). En el caso de trabajar remotamente utilizando Anaconda, se recomienda utilizar un sistema de control de versiones como Github."
   ]
  },
  {
   "cell_type": "markdown",
   "id": "273db9be",
   "metadata": {},
   "source": [
    "<div id='project' />\n",
    "\n",
    "## Proyecto"
   ]
  },
  {
   "cell_type": "code",
   "execution_count": null,
   "id": "6db49869",
   "metadata": {},
   "outputs": [],
   "source": []
  }
 ],
 "metadata": {
  "kernelspec": {
   "display_name": "Python 3",
   "language": "python",
   "name": "python3"
  },
  "language_info": {
   "codemirror_mode": {
    "name": "ipython",
    "version": 3
   },
   "file_extension": ".py",
   "mimetype": "text/x-python",
   "name": "python",
   "nbconvert_exporter": "python",
   "pygments_lexer": "ipython3",
   "version": "3.8.8"
  }
 },
 "nbformat": 4,
 "nbformat_minor": 5
}
