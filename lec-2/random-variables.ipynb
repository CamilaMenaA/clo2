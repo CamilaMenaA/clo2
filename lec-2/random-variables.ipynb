{
 "cells": [
  {
   "cell_type": "markdown",
   "id": "71875600",
   "metadata": {},
   "source": [
    "<center>\n",
    "    <img src=\"http://sct.inf.utfsm.cl/wp-content/uploads/2020/04/logo_di.png\" style=\"width:60%\">\n",
    "    <h1> INF-280 - Estadística Computacional </h1>\n",
    "    <h2> Probabilidad y Variables Aleatorias </h2>\n",
    "    <h4> Diego Quezada </h4>\n",
    "</center>"
   ]
  },
  {
   "cell_type": "markdown",
   "id": "f232d064",
   "metadata": {},
   "source": [
    "## Contenidos\n",
    "\n",
    "* [Introducción](#intro)\n",
    "* [Reglamento](#rules)\n",
    "* [Experiencia](#experience)\n",
    "    * [Fundamentales](#fundamentals)\n",
    "    * [Estimación de pi](#pi)\n",
    "    * [Integración de Monte Carlo](#montecarlo)\n",
    "    * [Caminos aleatorios](#randomwalk)\n",
    "    * [Teoría de la Información](#bayes)"
   ]
  },
  {
   "cell_type": "markdown",
   "id": "13a04df3",
   "metadata": {},
   "source": [
    "<div id='intro' />\n",
    "\n",
    "## Introducción\n",
    "\n",
    "Los laboratorios de estadística computacional (LEC) tienen por objetivo principal analizar datos utilizando técnicas de visualización y evidenciar el comportamiento estocástico de experimentos aleatorios mediante simulaciones computacionales. Las experiencias buscan medir la habilidad de programación en Python y sus librerías, la capacidad de análisis estadístico y la comprensión de documentación, artículos y papers.\n",
    "\n",
    "Recuerde que los laboratorios tienen una ponderación de 30% en la nota final del ramo."
   ]
  },
  {
   "cell_type": "markdown",
   "id": "aacd9331",
   "metadata": {},
   "source": [
    "<div id='reglamento' />\n",
    "\n",
    "## Reglamento"
   ]
  },
  {
   "cell_type": "markdown",
   "id": "0968eef8",
   "metadata": {},
   "source": [
    "1. El desarrollo de los laboratorios debe ser en **Python**.\n",
    "2. El formato de entrega es un **archivo .ipynb**, es decir, un jupyter notebook.\n",
    "3. El nombre del archivo de entrega del laboratorio $i$ debe seguir el siguiente formato: *lec-i-nombregrupo.ipynb*.\n",
    "4. Se recomienda seguir las recomendaciones de estilo descritas en [PEP 8](https://www.python.org/dev/peps/pep-0008/) a la hora de programar.\n",
    "5. El tiempo para la realización de los laboratorios es extenso, por lo que solo se recibirán entregas hasta las 23:59 del día de entrega **a menos que se especifique lo contrario**. Entregas fuera del plazo serán calificadas con nota 0.\n",
    "6. Antes de entregar su laboratorio verifique su **reproducibilidad**. Jupyter Notebooks con errores a la hora de ejecutarse serán penalizados con descuentos.\n",
    "7. Solo un integrante por grupo debe realizar la entrega por Aula."
   ]
  },
  {
   "cell_type": "markdown",
   "id": "93cdc139",
   "metadata": {},
   "source": [
    "<div id='experience' />\n",
    "\n",
    "## Experiencia\n",
    "\n",
    "En el presente laboratorio realizaremos simulaciones computacionales para estudiar distintos experimentos aleatorios. "
   ]
  },
  {
   "cell_type": "markdown",
   "id": "39c2a58d",
   "metadata": {},
   "source": [
    "### 0. Importación de librerías"
   ]
  },
  {
   "cell_type": "code",
   "execution_count": 10,
   "id": "79f48e26",
   "metadata": {},
   "outputs": [],
   "source": [
    "import numpy as np\n",
    "import pandas as pd\n",
    "import math\n",
    "import matplotlib.pyplot as plt\n",
    "import plotly.express as px\n",
    "import plotly.graph_objects as go\n",
    "import scipy.integrate as integrate\n",
    "from scipy.stats import norm\n",
    "from scipy.stats import poisson\n",
    "from scipy.stats import uniform\n",
    "from scipy.stats import bernoulli"
   ]
  },
  {
   "cell_type": "markdown",
   "id": "c2c473e4",
   "metadata": {},
   "source": [
    "### 1. Funciones útiles"
   ]
  },
  {
   "cell_type": "code",
   "execution_count": 2,
   "id": "b61b3147",
   "metadata": {},
   "outputs": [],
   "source": [
    "def plot_scatter(x_values, y_values, title=None, x_label=None, y_label=None, height=500, width=800):\n",
    "    \n",
    "    fig = go.Figure()\n",
    "\n",
    "    fig.add_trace(go.Scatter(\n",
    "                    x= x_values,\n",
    "                    y= y_values,\n",
    "                    mode='markers',\n",
    "                    name='markers')\n",
    "                 )\n",
    "\n",
    "    fig.update_xaxes(title_text=x_label)\n",
    "    fig.update_yaxes(title_text=y_label)\n",
    "    fig.update_layout(title_text=title, title_x=0.5)        \n",
    "    fig.update_layout(height=height, width=width, template=\"plotly_dark\")\n",
    "\n",
    "    fig.show(renderer='notebook')"
   ]
  },
  {
   "cell_type": "markdown",
   "id": "0f687eb8",
   "metadata": {},
   "source": [
    "<div id='fundamentals' />\n",
    "\n",
    "### 2. Fundamentales (10 pts.)"
   ]
  },
  {
   "cell_type": "markdown",
   "id": "334f5f3d",
   "metadata": {},
   "source": [
    "Comenzaremos conociendo las variables aleatorias de SciPy. Gran parte de lo que se desarrollará en esta sección se puede realizar sin problemas en NumPy, cada grupo es libre de utilizar la librería que más sea de su agrado en las siguientes secciones pero en esta **deben responder utilizando SciPy**.\n",
    "\n",
    "> Se recomienda revisar la documentación:\n",
    "> 1. [Distribuciones de NumPy](https://numpy.org/doc/1.16/reference/routines.random.html)\n",
    "> 2. [Distribuciones de SciPy](https://docs.scipy.org/doc/scipy/reference/reference/stats.html)"
   ]
  },
  {
   "cell_type": "markdown",
   "id": "16b8e3ee",
   "metadata": {},
   "source": [
    "Supongamos una [variable aleatoria](https://docs.scipy.org/doc/scipy/reference/generated/scipy.stats.bernoulli.html) $X \\sim \\text{Bernoulli}(0.6)$, en donde $X = 1$ indica que su grupo aprobó el LEC 1 y $X = 0$ que lo reprobó. Para definirla solo debemos hacer lo siguiente:"
   ]
  },
  {
   "cell_type": "code",
   "execution_count": 3,
   "id": "a7c548ea",
   "metadata": {},
   "outputs": [],
   "source": [
    "X = bernoulli(0.6)"
   ]
  },
  {
   "cell_type": "markdown",
   "id": "418cfad9",
   "metadata": {},
   "source": [
    "Tomemos una muestra de tamaño 1000 y calculemos el promedio muestral:"
   ]
  },
  {
   "cell_type": "code",
   "execution_count": 4,
   "id": "58a9cf92",
   "metadata": {},
   "outputs": [
    {
     "name": "stdout",
     "output_type": "stream",
     "text": [
      "0.601\n"
     ]
    }
   ],
   "source": [
    "np.random.seed(21)\n",
    "sample_mean = np.mean(X.rvs(size=1000))\n",
    "print(sample_mean)"
   ]
  },
  {
   "cell_type": "markdown",
   "id": "7fc861e9",
   "metadata": {},
   "source": [
    "> ``np.random.seed`` asegura que la muestra aleatoria sea reproducible, es decir, que siempre se generen los mismos números aleatorios. Puede eliminarla perfectamente. "
   ]
  },
  {
   "cell_type": "markdown",
   "id": "f870995d",
   "metadata": {},
   "source": [
    "Bastante cerca del valor esperado poblacional. Sabemos que la esperanza de una variable aleatoria que sigue una distribución Bernoulli es exactamente $p$, veamos esto en código!"
   ]
  },
  {
   "cell_type": "code",
   "execution_count": 5,
   "id": "475c4eae",
   "metadata": {},
   "outputs": [
    {
     "data": {
      "text/plain": [
       "0.6"
      ]
     },
     "execution_count": 5,
     "metadata": {},
     "output_type": "execute_result"
    }
   ],
   "source": [
    "X.mean()"
   ]
  },
  {
   "cell_type": "markdown",
   "id": "285e8050",
   "metadata": {},
   "source": [
    "La varianza también es facilmente obtenible:"
   ]
  },
  {
   "cell_type": "code",
   "execution_count": 6,
   "id": "8cee1650",
   "metadata": {},
   "outputs": [
    {
     "data": {
      "text/plain": [
       "0.24"
      ]
     },
     "execution_count": 6,
     "metadata": {},
     "output_type": "execute_result"
    }
   ],
   "source": [
    "X.var()"
   ]
  },
  {
   "cell_type": "markdown",
   "id": "b801dbbf",
   "metadata": {},
   "source": [
    "El método ``pmf`` (probability mass function) para las variables aleatorias discretas permite calcular la probabilidad de ocurrencia para cada valor en el dominio de la variable aleatoria. Para las variables aleatorias continuas el analogo es el método``pdf`` (probability density function):\n",
    "\n",
    "> Recuerde que la función de densidad de probabilidad **no indica una probabilidad** para un valor $x$. Para calcular probabilidades con ella se debe integrar sobre el dominio de interés."
   ]
  },
  {
   "cell_type": "code",
   "execution_count": 7,
   "id": "65475876",
   "metadata": {},
   "outputs": [
    {
     "data": {
      "text/plain": [
       "(0.4, 0.6)"
      ]
     },
     "execution_count": 7,
     "metadata": {},
     "output_type": "execute_result"
    }
   ],
   "source": [
    "X.pmf(0), X.pmf(1)"
   ]
  },
  {
   "cell_type": "markdown",
   "id": "1e1847f1",
   "metadata": {},
   "source": [
    "El método ``cdf`` permite calcular la probabilidad acumulada hasta cierto valor:"
   ]
  },
  {
   "cell_type": "code",
   "execution_count": 8,
   "id": "4b46bf0a",
   "metadata": {},
   "outputs": [
    {
     "data": {
      "text/plain": [
       "(0.4, 1.0)"
      ]
     },
     "execution_count": 8,
     "metadata": {},
     "output_type": "execute_result"
    }
   ],
   "source": [
    "X.cdf(0), X.cdf(1)"
   ]
  },
  {
   "cell_type": "markdown",
   "id": "0dabf67b",
   "metadata": {},
   "source": [
    "El método ``ppf`` permite calcular el valor para el cual la probabilidad acumulada toma un cierto valor:"
   ]
  },
  {
   "cell_type": "code",
   "execution_count": 9,
   "id": "c57337a6",
   "metadata": {},
   "outputs": [
    {
     "data": {
      "text/plain": [
       "1.0"
      ]
     },
     "execution_count": 9,
     "metadata": {},
     "output_type": "execute_result"
    }
   ],
   "source": [
    "X.ppf(0.5)"
   ]
  },
  {
   "cell_type": "markdown",
   "id": "69e4560e",
   "metadata": {},
   "source": [
    "2.1) Supongamos una variable aleatoria $C \\sim N(40, 5)$ que modela la temperatura en Celsius del modelo de computador LEC **(5 pts).**\n",
    "\n",
    "1. ¿Cuál es la probabilidad de que $C$ tome valores entre 45 [°C] y 50 [°C]?\n",
    "2. Tome una muestra de 10000 valores desde $C$ y calcule la media muestral.\n",
    "3. Grafique la distribución de probabilidad de $C$ desde $20$ [°C] hasta $60$ [°C].\n",
    "4. Grafique la distribución de probabilidad acumulada de $C$ desde $20$ [°C] hasta $60$ [°C].\n",
    "\n",
    "**Respuesta:**"
   ]
  },
  {
   "cell_type": "markdown",
   "id": "a37cf0a3",
   "metadata": {},
   "source": [
    "2.2) Supongamos una variable aleatoria $M \\sim \\text{Poisson}(70)$ que modela el número de mensajes por minuto enviado desde un computador A hacia otro B mediante una red local **(5 pts.)**\n",
    "\n",
    "1. ¿Cuál es la probabilidad de que $M$ tome exactamente el valor de la varianza de $M$?\n",
    "2. ¿Cuál es la probabilidad de que $M$ tome valores entre 60 y 80?\n",
    "3. Tome una muestra de 10000 valores desde $M$ y calcule la media muestral.\n",
    "4. Grafique la distribución de probabilidad de $M$ desde $0$ hasta $200$.\n",
    "5. Grafique la distribución de probabilidad acumulada de $M$ desde $0$ hasta $200$.\n",
    "\n",
    "**Respuesta:**"
   ]
  },
  {
   "cell_type": "markdown",
   "id": "f08bef7b",
   "metadata": {},
   "source": [
    "<div id='pi' />\n",
    "\n",
    "### 3. Estimación de $\\pi$ (10 pts.)\n",
    "\n",
    "En nuestra primera simulacion computacional realizaremos una estimacion de $\\pi$. Para esto, generaremos $n$ puntos $(x_i, y_i)$ aleatorios en donde $x_i \\in [-1,1]$, $y_i \\in [-1,1]$. Luego contaremos los puntos que están dentro de la circunferencia de radio 1 y estimaremos $\\pi$ en base a la siguiente aproximación:\n",
    "\n",
    "$$\n",
    "\\frac{\\pi r^2}{4r^2} \\approx \\frac{\\Sigma}{n}\n",
    "$$\n",
    "\n",
    "Es decir, el ratio entre el area de la circunferencia de radio 1 y el área del cuadrado de lado 2 definido por el rango de los puntos aleatorios debe ser aproximadamente igual al ratio entre la cantidad de puntos $\\Sigma$ en la circunferencia y la cantidad total de puntos."
   ]
  },
  {
   "cell_type": "markdown",
   "id": "9763a2ca",
   "metadata": {},
   "source": [
    "3.1) Defina la función ``estimate_pi`` que estima el valor de $\\pi$ utilizando ``n`` puntos **(5 pts.)**\n",
    "\n",
    "**Respuesta:**"
   ]
  },
  {
   "cell_type": "code",
   "execution_count": 2,
   "id": "46c54198",
   "metadata": {},
   "outputs": [],
   "source": [
    "def distance_from_origin(x,y):\n",
    "    return np.sqrt( ... )\n",
    "\n",
    "def estimate_pi(n):\n",
    "    sigma = 0\n",
    "    \n",
    "    x,y = np.random.uniform( ... ), np.random.uniform( ... )\n",
    "    \n",
    "    for i in range(n):\n",
    "        if distance_from_origin( ... ) <= 1:\n",
    "            sigma = ...\n",
    "            \n",
    "    pi_estimation = ...\n",
    "    return pi_estimation    "
   ]
  },
  {
   "cell_type": "markdown",
   "id": "e806a230",
   "metadata": {},
   "source": [
    "3.2) Defina la función ``pi_simulation`` que permita visualizar cómo varía la estimación de $\\pi$ a medida que el número $n$ de puntos aumenta. ¿Qué indica el gráfico? **(5 pts.)**\n",
    "\n",
    "**Respuesta:**"
   ]
  },
  {
   "cell_type": "code",
   "execution_count": 13,
   "id": "b30e30dd",
   "metadata": {},
   "outputs": [],
   "source": [
    "def pi_simulation(size=100):\n",
    "    \n",
    "    x_values = np.arange( ... )\n",
    "    y_values = np.array(np.vectorize( ... )( ... ))\n",
    "    \n",
    "    plot_scatter(x_values, y_values, title=\"Estimación Monte Carlo de Pi\",\n",
    "                 x_label=\"Número de puntos\", y_label=\"Estimación de Pi\")"
   ]
  },
  {
   "cell_type": "code",
   "execution_count": 1,
   "id": "cfc32b58",
   "metadata": {},
   "outputs": [],
   "source": [
    "#pi_simulation(size=1000)"
   ]
  },
  {
   "cell_type": "markdown",
   "id": "cb50d6b1",
   "metadata": {},
   "source": [
    "<div id='montecarlo' />\n",
    "\n",
    "### 4. Integración de Monte Carlo (15 pts.)\n",
    "\n",
    "En nuestra segunda simulación buscaremos aproximar el valor de una integral $\\int_{a}^b f(x)dx$ mediante el [método de Monte Carlo](https://www.scratchapixel.com/lessons/mathematics-physics-for-computer-graphics/monte-carlo-methods-in-practice/monte-carlo-integration). La idea es trabajar con el siguiente cálculo de esperanza:\n",
    "\n",
    "$$ E[f] = \\int_{a}^b f(x) \\cdot p(x) dx$$\n",
    "\n",
    "La forma más simple de seguir es considerar $x \\sim U(a,b)$, así tenemos:\n",
    "\n",
    "$$ E[f] = \\int_{a}^b f(x) \\cdot \\frac{1}{b - a} dx$$\n",
    "\n",
    "De forma que podemos estimar la integral deseada mediante:\n",
    "\n",
    "$$ \\int_{a}^b f(x)dx \\approx  E[f] \\cdot (b - a) $$\n",
    "\n",
    "Finalmente, estimaremos $E[f]$ como un promedio empírico utilizando muestras $x_i$ extraídas de $U(a,b)$ :\n",
    "\n",
    "$$ E[f] \\approx \\sum_{i = 1}^n f(x_i)$$"
   ]
  },
  {
   "cell_type": "markdown",
   "id": "2ee1cb47",
   "metadata": {},
   "source": [
    "4.1) Defina la función ``montecarlo_integration`` que permita estimar el valor de la integral de ``f`` entre ``a`` y ``b`` realizando un sampling de ``n`` puntos desde $U(a, b)$ **(5 pts.)**\n",
    "\n",
    "**Respuesta:**"
   ]
  },
  {
   "cell_type": "code",
   "execution_count": 15,
   "id": "96ff694b",
   "metadata": {},
   "outputs": [],
   "source": [
    "def montecarlo_integration(f, a, b, n):\n",
    "    \n",
    "    x_values = np.random.uniform( ... )\n",
    "    y_values = np.vectorize( ... )( ... )\n",
    "    \n",
    "    #plot_scatter(x_values, y_values, x_label=\"x\", y_label=\"y\", height=300, width=400)\n",
    "    \n",
    "    estimation = ...\n",
    "    \n",
    "    return estimation"
   ]
  },
  {
   "cell_type": "markdown",
   "id": "cb9de0c0",
   "metadata": {},
   "source": [
    "4.2) Defina la función ``test_montecarlo_accuracy`` que indica cuánto se equivoca (error absoluto) en promedio (cada integral se estima un número ``number_tests`` de veces) su función ``montecarlo_integration`` en la estimación de cada una de las integrales entregadas como parámetro y definidas en la lista ``to_integrate`` en donde cada tupla tiene la forma ($f$,$a$,$b$,valor integral). **(5 pts.)**"
   ]
  },
  {
   "cell_type": "code",
   "execution_count": 16,
   "id": "37a80da3",
   "metadata": {},
   "outputs": [],
   "source": [
    "to_integrate = [\n",
    "                    (lambda x: 1/(x**2 + 1), -10, 10, integrate.quad(lambda x: 1/(x**2 + 1), -10, 10)[0]),\n",
    "                    (np.log, 0.1, 3, integrate.quad(np.log, 0.1, 3)[0]),\n",
    "                    (lambda x: -1 * x**2, -10, 10, integrate.quad(lambda x: -1 * x**2, -10, 10)[0]),\n",
    "                    (np.exp, 1, 100, integrate.quad(np.exp, 1, 100)[0])\n",
    "               ]"
   ]
  },
  {
   "cell_type": "code",
   "execution_count": 17,
   "id": "a2c8484c",
   "metadata": {},
   "outputs": [],
   "source": [
    "def test_montecarlo_accuracy(data, number_tests):\n",
    "    \n",
    "    results = list()\n",
    "    \n",
    "    for f, a, b, result in data:\n",
    "        \n",
    "        results.append( ... )\n",
    "        \n",
    "    return results"
   ]
  },
  {
   "cell_type": "code",
   "execution_count": 18,
   "id": "18594197",
   "metadata": {},
   "outputs": [
    {
     "data": {
      "text/plain": [
       "[0.039877611717971974,\n",
       " 1.3374789275393417,\n",
       " 1332.5301386618676,\n",
       " 1.5407673053099325e+42]"
      ]
     },
     "execution_count": 18,
     "metadata": {},
     "output_type": "execute_result"
    }
   ],
   "source": [
    "test_montecarlo_accuracy(to_integrate, 100)"
   ]
  },
  {
   "cell_type": "markdown",
   "id": "7b4f04d9",
   "metadata": {},
   "source": [
    "4.3) Plantee y fundamente dos modificaciones sencillas que se podrían hacer al método desarrollado y que permitan estimar de forma más precisa las integrales. **(5 pts.)**\n",
    "\n",
    "**Hint 1:** Las aproximaciones realizas en el planteamiento del método (al inicio de la sección) pueden ser de ayuda.\n",
    "\n",
    "**Hint 2:** [Ley de los grandes números](https://es.wikipedia.org/wiki/Ley_de_los_grandes_n%C3%BAmeros).\n",
    "\n",
    "**Respuesta:** "
   ]
  },
  {
   "cell_type": "markdown",
   "id": "83b73884",
   "metadata": {},
   "source": [
    "<div id='randomwalk' />\n",
    "\n",
    "### 5. Camino aleatorio (25 pts.)\n",
    "\n",
    "En nuestra tercera simulación analizaremos los [random walk](https://www.britannica.com/science/random-walk): proceso estocástico en el cual objetos que se mueven aleatoriamente se alejan de donde comenzaron. Es importante mencionar que los caminos aleatorios son un ejemplo de [procesos de Markov](https://brilliant.org/wiki/markov-chains/) por lo que cada paso es independiente de los pasados.\n",
    "\n",
    "Modelaremos la ubicación de un objeto en el tiempo $t$ mediante la siguiente variable aleatoria:\n",
    "\n",
    "$$\n",
    "X(t) = \\sum_{i = 0}^{t} \\phi_i\n",
    "$$\n",
    "\n",
    "Donde $\\phi_i$ es la **realización de la variable aleatoria** $\\phi$ en el paso $i$. Realizaremos la simulación considerando un espacio unidimensional y un camino aleatorio simple donde $P(\\phi_i = 1) = P(\\phi_i = -1)$, es decir, en cada instante $t$ se puede dar un paso hacia la dirección negativa o hacia la dirección positiva de manera equiprobable. A esta distribución la llamaremos **default**. \n",
    "\n",
    "Otra notación análoga e interesante es \n",
    "\n",
    "$$X\n",
    "(t + 1) = X(t) + \\phi(t)\n",
    "$$\n",
    "\n",
    "La definición de camino aleatorio simple implica que las variables aleatorias $\\phi_i$ son **independientes e identicamente distribuidas (IID)**. "
   ]
  },
  {
   "cell_type": "markdown",
   "id": "9b345070",
   "metadata": {},
   "source": [
    "5.1) Defina la función ``random_walk_simulation`` que grafica un camino aleatorio de ``steps`` pasos **(5 pts.)**\n",
    "\n",
    "**Respuesta:**"
   ]
  },
  {
   "cell_type": "code",
   "execution_count": 4,
   "id": "59077bf6",
   "metadata": {},
   "outputs": [],
   "source": [
    "def random_walk_simulation(steps):\n",
    "    \n",
    "    movements = np.random.choice( ...)\n",
    "    positions = movements.cumsum()\n",
    "    \n",
    "    time = np.arange( ... )\n",
    "    \n",
    "    fig = go.Figure()\n",
    "    fig.add_trace(go.Scatter(x=..., y=...,mode='lines+markers'))\n",
    "    fig.update_xaxes(title_text=\"t\")\n",
    "    fig.update_yaxes(title_text=\"X(t)\")\n",
    "    fig.update_layout(height=400, width=800, title_text='Random walk', title_x=0.5, template=\"plotly_dark\") #plotly dark, seaborn\n",
    "\n",
    "    fig.show()"
   ]
  },
  {
   "cell_type": "code",
   "execution_count": 2,
   "id": "7d1c3423",
   "metadata": {},
   "outputs": [],
   "source": [
    "#random_walk_simulation(100)"
   ]
  },
  {
   "cell_type": "markdown",
   "id": "f7b09a68",
   "metadata": {},
   "source": [
    "5.2) Calcule analíticamente la esperanza de $X(t)$, realice su desarrollo en LaTeX **(3 pts.)**\n",
    "\n",
    "**Respuesta:**"
   ]
  },
  {
   "cell_type": "markdown",
   "id": "aa5b767f",
   "metadata": {},
   "source": [
    "5.3) Defina la función ``empirical_distribution_random_walks`` que permita comprobar empiricamente lo planteado en 4.2 mediante una visualización **(5 pts.)**\n",
    "\n",
    "**Hint:** El parámetro ``distribution`` será útil en la siguiente pregunta.\n",
    "\n",
    "**Respuesta:**"
   ]
  },
  {
   "cell_type": "code",
   "execution_count": 5,
   "id": "8e252bbe",
   "metadata": {},
   "outputs": [],
   "source": [
    "def random_walk(steps, distribution = \"default\"):\n",
    "    \n",
    "    if(distribution == \"default\"):\n",
    "        \n",
    "        movements = np.random.choice( ... )\n",
    "        positions = movements.cumsum() # indexed by time t\n",
    "        \n",
    "    return positions\n",
    "    \n",
    "def empirical_distribution_random_walks(n,steps, distribution = \"default\"):\n",
    "    \n",
    "    last_positions = [random_walk( ... )[-1] for i in range(n)]\n",
    "    \n",
    "    fig = go.Figure(data=[go.Histogram(x=..., histnorm='probability', xbins=dict(start=-steps,end=steps, size=1))])\n",
    "    fig.update_layout(height=400, width=800, title_text=f'Distribución empírica {distribution} de Random Walks con {steps} pasos', title_x=0.5, template=\"plotly_dark\") #plotly dark, seaborn\n",
    "    fig.show()"
   ]
  },
  {
   "cell_type": "code",
   "execution_count": 3,
   "id": "558d0d70",
   "metadata": {},
   "outputs": [],
   "source": [
    "#empirical_distribution_random_walks(10000,10000)"
   ]
  },
  {
   "cell_type": "markdown",
   "id": "b3d1777d",
   "metadata": {},
   "source": [
    "5.4) Visualize la distribución empírica de los Random Walks considerando ahora $\\phi = N(0,1)$ y también $\\phi = U(-1,1)$. Para esto actualice su función ``random_walk`` **(2 pts.)**|\n",
    "\n",
    "**Respuesta**"
   ]
  },
  {
   "cell_type": "code",
   "execution_count": 6,
   "id": "6a7cb0e0",
   "metadata": {},
   "outputs": [],
   "source": [
    "def random_walk(steps, distribution = \"default\"):\n",
    "    \n",
    "    if(distribution == \"default\"):\n",
    "        \n",
    "        movements = np.random.choice( ... )\n",
    "        positions = movements.cumsum()\n",
    "        \n",
    "    if(distribution == \"normal\"):\n",
    "        \n",
    "        movements = np.random.normal( ... )\n",
    "        positions = movements.cumsum()\n",
    "        \n",
    "    if(distribution == \"uniform\"):\n",
    "\n",
    "        movements = np.random.uniform( ... )\n",
    "        positions = movements.cumsum()\n",
    "    \n",
    "    return positions"
   ]
  },
  {
   "cell_type": "code",
   "execution_count": 4,
   "id": "9fd53600",
   "metadata": {},
   "outputs": [],
   "source": [
    "#empirical_distribution_random_walks(10000,10000, distribution = \"normal\")"
   ]
  },
  {
   "cell_type": "code",
   "execution_count": 5,
   "id": "38d6fba1",
   "metadata": {},
   "outputs": [],
   "source": [
    "#empirical_distribution_random_walks(10000,10000, distribution = \"uniform\")"
   ]
  },
  {
   "cell_type": "markdown",
   "id": "460feb1c",
   "metadata": {},
   "source": [
    "5.5) Calcule analiticamente la esperanza y la varianza para cada random walk $\\displaystyle X_{\\phi_i}(t)$ donde $\\phi_1(t) = default, \\phi_2(t) = N(0,1)$ y $\\phi_3(t) = U(-1,1)$, realice su desarrollo en LaTeX. Luego, explique a qué se debe el comportamiento estocástico visualizado en la pregunta anterior.  **(10 pts.)**\n",
    "\n",
    "**Hint 1:** Recuerde que un random walk es una suma de variables aleatorias IID.\n",
    "\n",
    "**Hint 2:** [LOTUS](https://en.wikipedia.org/wiki/Law_of_the_unconscious_statistician)\n",
    "\n",
    "**Respuesta:**"
   ]
  },
  {
   "cell_type": "markdown",
   "id": "18ff4705",
   "metadata": {},
   "source": [
    "<div id='bayes' />\n",
    "\n",
    "### 6. Teoría de la Información (40 pts)\n",
    "\n",
    "La teoría de la información es una rama de las matemáticas aplicadas que busca **cuantificar cuánta información hay en una señal**. En esta cuarta y última simulación trataremos con el problema que dio origen a este importante campo de estudio: cómo transmitir datos (bits) a través de canales de comunicación ruidosos. \n",
    "\n",
    "Consideremos como ejemplo de canal de comunicación un disco duro ruidoso que transmite cada bit incorrectamente con una probabilidad $p$, el esquema de comunicación es el siguiente:\n",
    "\n",
    "$$\n",
    "\\text{memoria del computador} \\rightarrow \\text{disco duro} \\rightarrow \\text{memoria del computador}\n",
    "$$\n",
    "\n",
    "Claramente nos interesa hacer $p$ tan pequeño como pueda ser, una solución evidente es la asociada al hardware, es decir, mejorar los componentes del disco duro. La teoría de la información junto a la teoría de la codificación ofrecen una alternativa: aceptar el ruido del canal y **diseñar sistemas de comunicación** que permitan **detectar y corregir los errores introducidos por el canal**. \n",
    "\n",
    "Consideremos el siguiente sistema, en donde $t$, $r$ y $\\hat{s}$ son diferentes versiones de nuestro mensaje original $s$ .\n",
    "\n",
    "<img src='system.png' style=\"width:50%\">\n",
    "\n",
    "> Recuerde la notación pues será de ayuda a la hora de entender los códigos de guía.\n",
    "\n",
    "El encoder codifica el mensaje original $s$  en un mensaje de transmisión $t$, para esto a $s$ se le agrega cierta redundancia. El decoder recibe el mensaje ruidoso $r$ y utilizando la redundancia añadida por el encoder busca desagregar el mensaje original $s$ del ruido agregado, este mensaje sin ruido es $\\hat{s}$ y buscamos que sea $s$.\n",
    "\n",
    "¿Cuál es la mejor correción de error que podemos conseguir?, let's see!"
   ]
  },
  {
   "cell_type": "markdown",
   "id": "3af749ef",
   "metadata": {},
   "source": [
    "6.1) Primero que todo debemos representar nuestro mensaje como bits. Defina la función ``string_to_bits`` que recibe un mensaje ``string_message`` y lo representa como un conjunto de bits utilizando el siguiente método: **(3 pts.)**\n",
    "\n",
    "1. Cada caracter de ``string_message`` se pasa a unicode.\n",
    "2. Cada unicode asociado a un caracter se pasa a un byte (8 bits).\n",
    "3. Los bytes asociados a cada unicode se concatenan para formar el mensaje ``bit_message`` a retornar.\n",
    "\n",
    "**Respuesta:**"
   ]
  },
  {
   "cell_type": "code",
   "execution_count": 8,
   "id": "6a589607",
   "metadata": {},
   "outputs": [],
   "source": [
    "def string_to_bits(string_message, show=True):\n",
    "\n",
    "    bit_message = \"\"\n",
    "    data = []\n",
    "\n",
    "    for char in string_message:\n",
    "\n",
    "        char_in_unicode = ord(char) \n",
    "        unicode_in_binary = str(bin(char_in_unicode))[2:]\n",
    "        \n",
    "        if(len(unicode_in_binary) < 8): # fill up to 8 bits\n",
    "            zeros = ...\n",
    "            unicode_in_binary = '0' * zeros + unicode_in_binary\n",
    "        \n",
    "        bit_message = bit_message + ...\n",
    "        data.append((char, char_in_unicode, unicode_in_binary))\n",
    "    \n",
    "    if(show):\n",
    "        print(pd.DataFrame(data, columns=[\"char\", \"unicode\", \"binary\"])) # handcraft debugger\n",
    "        \n",
    "    return bit_message"
   ]
  },
  {
   "cell_type": "code",
   "execution_count": 11,
   "id": "8a172bf6",
   "metadata": {},
   "outputs": [
    {
     "name": "stdout",
     "output_type": "stream",
     "text": [
      "   char  unicode    binary\n",
      "0     E       69  01000101\n",
      "1     s      115  01110011\n",
      "2     t      116  01110100\n",
      "3     a       97  01100001\n",
      "4     d      100  01100100\n",
      "5     í      237  11101101\n",
      "6     s      115  01110011\n",
      "7     t      116  01110100\n",
      "8     i      105  01101001\n",
      "9     c       99  01100011\n",
      "10    a       97  01100001\n",
      "11            32  00100000\n",
      "12    C       67  01000011\n",
      "13    o      111  01101111\n",
      "14    m      109  01101101\n",
      "15    p      112  01110000\n",
      "16    u      117  01110101\n",
      "17    t      116  01110100\n",
      "18    a       97  01100001\n",
      "19    c       99  01100011\n",
      "20    i      105  01101001\n",
      "21    o      111  01101111\n",
      "22    n      110  01101110\n",
      "23    a       97  01100001\n",
      "24    l      108  01101100\n"
     ]
    },
    {
     "data": {
      "text/plain": [
       "'01000101011100110111010001100001011001001110110101110011011101000110100101100011011000010010000001000011011011110110110101110000011101010111010001100001011000110110100101101111011011100110000101101100'"
      ]
     },
     "execution_count": 11,
     "metadata": {},
     "output_type": "execute_result"
    }
   ],
   "source": [
    "string_to_bits(\"Estadística Computacional\")"
   ]
  },
  {
   "cell_type": "markdown",
   "id": "dbceebb3",
   "metadata": {},
   "source": [
    "6.2) Defina la función ``bits_to_string`` que permite recuperar el mensaje originial desde ``bit_message``. **(2 pts)**.\n",
    "\n",
    "\n",
    "**Respuesta:**"
   ]
  },
  {
   "cell_type": "code",
   "execution_count": 23,
   "id": "56855c58",
   "metadata": {},
   "outputs": [],
   "source": [
    "def bits_to_string(bit_message):\n",
    "    \n",
    "    unicodes_in_binary = [ bit_message[i:i+8] for i in range(0, len(bit_message), 8) ]\n",
    "    unicodes = ...\n",
    "    strings = list(map(chr, unicodes))\n",
    "    \n",
    "    return ''.join(strings)"
   ]
  },
  {
   "cell_type": "markdown",
   "id": "457e0200",
   "metadata": {},
   "source": [
    "**[checkpoint]** Ejecute las siguientes dos celdas para verificar sus funciones! "
   ]
  },
  {
   "cell_type": "code",
   "execution_count": 18,
   "id": "2aafd08c",
   "metadata": {},
   "outputs": [],
   "source": [
    "def everything_ok(string_message, show=False):\n",
    "    bits = string_to_bits(string_message, show=show)\n",
    "    return bits_to_string(bits) == string_message"
   ]
  },
  {
   "cell_type": "code",
   "execution_count": 22,
   "id": "4ec848d5",
   "metadata": {},
   "outputs": [
    {
     "data": {
      "text/plain": [
       "True"
      ]
     },
     "execution_count": 22,
     "metadata": {},
     "output_type": "execute_result"
    }
   ],
   "source": [
    "everything_ok(\"Ánimo, ya están pronto a finalizar su LEC 2 :')\")"
   ]
  },
  {
   "cell_type": "markdown",
   "id": "5f0cfa00",
   "metadata": {},
   "source": [
    "Modelaremos el ruido como un **vector de variables aleatorias** $\\text{Bernoulli}(p)$, de esta forma el bit en la posicion $i$ del mensaje $t$ será modificado si el número en la posición $i$ del vector de ruido es $1$ (este evento pasa con probabilidad $p$)."
   ]
  },
  {
   "cell_type": "markdown",
   "id": "de4cb6eb",
   "metadata": {},
   "source": [
    "6.3) Defina la función ``noisy_channel`` que modela un canal de comunicación en donde cada bit de ``t`` se transmite incorrectamente con una probabilidad ``p`` **(5 pts.)**\n",
    "\n",
    "**Respuesta:**"
   ]
  },
  {
   "cell_type": "code",
   "execution_count": 30,
   "id": "78efecc4",
   "metadata": {},
   "outputs": [],
   "source": [
    "def noisy_channel(t, p): # p is probability of error !!\n",
    "    \n",
    "    t_array = np.fromiter(t, dtype=int) \n",
    "    noise = bernoulli.rvs( ... )\n",
    "    t_masked = t_array ^ noise # XOR operator\n",
    "    r = ''.join( ... ) \n",
    "    \n",
    "    return r "
   ]
  },
  {
   "cell_type": "markdown",
   "id": "c92e422e",
   "metadata": {},
   "source": [
    "Veamos cuánto se corrompe un mensaje al pasarlo **sin ningún tipo de seguridad** (sin encoder aún) por un **canal de comunicación ruidoso con una probabilidad muy baja de corrupción**: "
   ]
  },
  {
   "cell_type": "code",
   "execution_count": 31,
   "id": "8a72793b",
   "metadata": {},
   "outputs": [
    {
     "name": "stdout",
     "output_type": "stream",
     "text": [
      "Hola :\u0007), este es un mensaje de prueba! Aprovechk de bec/rdarlus que comenten adecuadamånte su códagm. \n"
     ]
    }
   ],
   "source": [
    "s = string_to_bits(\"Hola :'), este es un mensaje de prueba! Aprovecho de recordarles que comenten adecuadamente su código. \")\n",
    "r = noisy_channel(s, 0.01)\n",
    "s_prime = bits_to_string(r) \n",
    "print(s_prime)"
   ]
  },
  {
   "cell_type": "markdown",
   "id": "c59f164d",
   "metadata": {},
   "source": [
    "Nuestro mensaje se corrompe facilmente aún cuando la probabilidad de que cada bit se transmita erroneamente sea $p = 0.01$. Es hora de mejorar la transmisión de datos utilizando un encoder y un decoder."
   ]
  },
  {
   "cell_type": "markdown",
   "id": "8f88dffe",
   "metadata": {},
   "source": [
    "6.4) Defina la función ``encoder`` que repite ``redundancy`` veces cada bit del mensaje ``s`` **(2 pts.)**\n",
    "\n",
    "**Respuesta:**"
   ]
  },
  {
   "cell_type": "code",
   "execution_count": 32,
   "id": "c8ec5514",
   "metadata": {},
   "outputs": [],
   "source": [
    "def encoder(s, redundancy):\n",
    "    t = [ ...  for bit in s]# repeat redundancy times every bit\n",
    "    return ''.join(t)"
   ]
  },
  {
   "cell_type": "markdown",
   "id": "ba4dbb7b",
   "metadata": {},
   "source": [
    "6.5) Defina la función ``decoder`` que recibe un mensaje ``r`` **ruidoso y codificado** y lo decodifica utilizando el siguiente método en donde se asume $p < 0.5$: **(5 pts.)**\n",
    "\n",
    "1. El mensaje ``r`` se agrupa cada ``redundancy`` bits seguidos.\n",
    "2. Cada grupo de ``redundancy`` bits realiza una votación democrática para elegir un bit que los represente. Este bit será 1 si en el grupo hay más bits con el valor 1, de lo contrario, será 0. Notar que el caso de igualdad no es de interés, **la redundancia introducida por el decoder debe ser impar**.\n",
    "3. Los bits que reprensentan cada grupo de ``redundancy`` bits se concatenan y conforman el mensaje decodificado."
   ]
  },
  {
   "cell_type": "code",
   "execution_count": 24,
   "id": "0ce77e0c",
   "metadata": {},
   "outputs": [],
   "source": [
    "def democratic_vote(sequence, n):\n",
    "    redundancy = len(sequence)\n",
    "    \n",
    "    if(redundancy % 2 != 0):\n",
    "        ones = 0\n",
    "        zeros = 0\n",
    "        for bit in sequence:\n",
    "            if(bit == '1'):\n",
    "                ones = ones + 1\n",
    "            else:\n",
    "                zeros = zeros + 1\n",
    "        if(zeros > ones):\n",
    "            return '0'\n",
    "        else:\n",
    "            return '1'  \n",
    "    else:\n",
    "        raise ValueError(f\"Redundancy level should be odd\")\n",
    "        \n",
    "    \n",
    "def decoder(r, redundancy):\n",
    "    \n",
    "    r_grouped = ...\n",
    "    s_prime = ...\n",
    "    \n",
    "    return ''.join(s_prime)"
   ]
  },
  {
   "cell_type": "markdown",
   "id": "5ed3345d",
   "metadata": {},
   "source": [
    "6.6) Defina la función ``communication_test`` que permite simular el flujo de una comunicación  a través de un canal ruidoso con probabilidad ``p`` de corromper cada bit. Si el parámetro ``encode`` es ``True`` se debe codificar el mensaje con un un nivel de redundancia ``redundancy``, de lo contrario no se debe codificar. **(3 pts.)**\n",
    "\n",
    "**Respuesta:**"
   ]
  },
  {
   "cell_type": "code",
   "execution_count": 49,
   "id": "01e030d3",
   "metadata": {},
   "outputs": [],
   "source": [
    "def communication_test(string_message, p, encode=False, redundancy=1001):\n",
    "    \n",
    "    s = string_to_bits(string_message)\n",
    "    \n",
    "    if(encode):\n",
    "        t = encoder( ... )\n",
    "        r = noisy_channel( ... )\n",
    "        s_prime = bits_to_string( ... )\n",
    "        \n",
    "    else:\n",
    "        r = noisy_channel( ... )\n",
    "        s_prime = bits_to_string( ... )\n",
    "        \n",
    "    return s_prime"
   ]
  },
  {
   "cell_type": "code",
   "execution_count": 50,
   "id": "39ce1c88",
   "metadata": {},
   "outputs": [
    {
     "name": "stdout",
     "output_type": "stream",
     "text": [
      " °C\u0003Pëä):Nñ,êÛ½#`Ë´`¶×ÏÝÔ©L¿h¤©éM®å\u000e\u001c",
      "d¾9è\u0012wÊfrµ\n",
      "Con codificar: Veamos si hay alguna mejora después de tanto ecfuerzo :-)\n"
     ]
    }
   ],
   "source": [
    "message = \"Veamos si hay alguna mejora después de tanto esfuerzo :-)\"\n",
    "\n",
    "print(f\"Sin codificar: {communication_test(message, 0.45)}\")\n",
    "print(f\"Con codificar: {communication_test(message, 0.45, encode=True)}\")"
   ]
  },
  {
   "cell_type": "markdown",
   "id": "4505b67d",
   "metadata": {},
   "source": [
    "Mucho mejor la versión codificada !"
   ]
  },
  {
   "cell_type": "markdown",
   "id": "5166e9eb",
   "metadata": {},
   "source": [
    "6.7) Explique sucintamente por qué el utilizar un encoder y decoder la probabilidad de que el mensaje se transmita de manera correcta aumenta **(2 pts)**.\n",
    "\n",
    "**Respuesta:**"
   ]
  },
  {
   "cell_type": "markdown",
   "id": "4b27c1c4",
   "metadata": {},
   "source": [
    "6.8) Defina la función ``probability_bit_corruption`` que aproxima mediante ``n`` simulaciones la probabilidad de que un **bit del mensaje original** se transmita de manera errónea a través de un canal ruidoso con probabilidad ``p`` de corrupción cuando se utiliza una redundancia ``redundancy`` y la función ``democratic_vote`` **(5 pts.)**\n",
    "\n",
    "**Respuesta:**"
   ]
  },
  {
   "cell_type": "code",
   "execution_count": 52,
   "id": "dc232b0f",
   "metadata": {},
   "outputs": [],
   "source": [
    "def probability_bit_corruption(p, redundancy, n):\n",
    "    right = 0\n",
    "    wrong = 0\n",
    "    s = '0' # or '1'\n",
    "    \n",
    "    for i in range(n):\n",
    "        t = ...\n",
    "        r = ...\n",
    "        if(s == decoder(r, redundancy)):\n",
    "            right = ...\n",
    "        else:\n",
    "            wrong = ...\n",
    "            \n",
    "    return ..."
   ]
  },
  {
   "cell_type": "markdown",
   "id": "9eea7719",
   "metadata": {},
   "source": [
    "La siguiente función permite verificar su función ``probability_bit_corruption`` y también será de ayuda para la próxima pregunta."
   ]
  },
  {
   "cell_type": "code",
   "execution_count": 25,
   "id": "ddd6f77d",
   "metadata": {},
   "outputs": [],
   "source": [
    "def plot_empirical_bit_corruption_distribution(n, p):\n",
    "    x_values = np.arange(1, 500, 2) # max redundancy\n",
    "    y_values = list(map(lambda redundancy: probability_bit_corruption(p, redundancy, n), x_values))\n",
    "    \n",
    "    plot_scatter(x_values, y_values, x_label=\"Encoder redundancy\", y_label=\"corruption probability\",\n",
    "                 title=\"Empirical bit corruption distribution\",height= 400, width=700)"
   ]
  },
  {
   "cell_type": "code",
   "execution_count": 6,
   "id": "aa04ab5f",
   "metadata": {
    "scrolled": true
   },
   "outputs": [],
   "source": [
    "#plot_empirical_bit_corruption_distribution(100, 0.4) # hard work"
   ]
  },
  {
   "cell_type": "markdown",
   "id": "91950c5c",
   "metadata": {},
   "source": [
    "6.9) ¿Qué pasa cuando $p > 0.5$?, ¿por qué? **(8 pts.)**\n",
    "\n",
    "**Respuesta:**"
   ]
  },
  {
   "cell_type": "markdown",
   "id": "fc37aa3f",
   "metadata": {},
   "source": [
    "6.10) El decoder busca maximizar $P(s|r)$, donde $s$ es un bit y $r$ como de costumbre el bit $s$ codificado por el encoder y modificado por el ruido del canal de transmisión. Interprete $P(s|r)$ y su maximización **(5 pts.)**\n",
    "\n",
    "**Respuesta:**"
   ]
  },
  {
   "cell_type": "markdown",
   "id": "d6827496",
   "metadata": {},
   "source": [
    "## The end of the road (or the beginning of a new one) "
   ]
  },
  {
   "cell_type": "code",
   "execution_count": 1,
   "id": "6a3433cd",
   "metadata": {},
   "outputs": [
    {
     "name": "stdout",
     "output_type": "stream",
     "text": [
      "\n",
      "Felicitaciones ! Ya completaste el segundo laboratorio de Estadística Computacional :') \n",
      "\n"
     ]
    }
   ],
   "source": [
    "print(\"\"\"\n",
    "Felicitaciones ! Ya completaste el segundo laboratorio de Estadística Computacional :') \n",
    "\"\"\")"
   ]
  }
 ],
 "metadata": {
  "interpreter": {
   "hash": "767d51c1340bd893661ea55ea3124f6de3c7a262a8b4abca0554b478b1e2ff90"
  },
  "kernelspec": {
   "display_name": "Python 3 (ipykernel)",
   "language": "python",
   "name": "python3"
  },
  "language_info": {
   "codemirror_mode": {
    "name": "ipython",
    "version": 3
   },
   "file_extension": ".py",
   "mimetype": "text/x-python",
   "name": "python",
   "nbconvert_exporter": "python",
   "pygments_lexer": "ipython3",
   "version": "3.8.8"
  }
 },
 "nbformat": 4,
 "nbformat_minor": 5
}
