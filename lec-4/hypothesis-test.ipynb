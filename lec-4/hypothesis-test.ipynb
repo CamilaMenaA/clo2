{
 "cells": [
  {
   "cell_type": "markdown",
   "id": "71875600",
   "metadata": {},
   "source": [
    "<center>\n",
    "    <img src=\"http://sct.inf.utfsm.cl/wp-content/uploads/2020/04/logo_di.png\" style=\"width:60%\">\n",
    "    <h1> INF-280 - Estadística Computacional </h1>\n",
    "    <h2> Test de hipótesis </h2>\n",
    "    <h4> Diego Quezada </h4>\n",
    "</center>"
   ]
  },
  {
   "cell_type": "markdown",
   "id": "f232d064",
   "metadata": {},
   "source": [
    "## Contenidos\n",
    "\n",
    "* [Introducción](#intro)\n",
    "* [Reglamento](#rules)\n",
    "* [Experiencia](#experience)\n",
    "    * [Teorema del límite central](#tcl)\n",
    "    * [Prueba de hipótesis](#ht)\n",
    "    * [Prueba de permutación](#pt)"
   ]
  },
  {
   "cell_type": "markdown",
   "id": "13a04df3",
   "metadata": {},
   "source": [
    "<div id='intro' />\n",
    "\n",
    "## Introducción\n",
    "\n",
    "Los laboratorios de estadística computacional (LEC) tienen por objetivo principal analizar datos utilizando técnicas de visualización y evidenciar el comportamiento estocástico de experimentos aleatorios mediante simulaciones computacionales. Las experiencias buscan medir la habilidad de programación en Python y sus librerías, la capacidad de análisis estadístico y la comprensión de documentación, artículos y papers.\n",
    "\n",
    "Recuerde que los laboratorios tienen una ponderación de 30% en la nota final del ramo."
   ]
  },
  {
   "cell_type": "markdown",
   "id": "aacd9331",
   "metadata": {},
   "source": [
    "<div id='rules' />\n",
    "\n",
    "## Reglamento"
   ]
  },
  {
   "cell_type": "markdown",
   "id": "0968eef8",
   "metadata": {},
   "source": [
    "1. El desarrollo de los laboratorios debe ser en **Python**.\n",
    "2. El formato de entrega es un **archivo .ipynb**, es decir, un jupyter notebook.\n",
    "3. El nombre del archivo de entrega del laboratorio $i$ debe seguir el siguiente formato: *lec-i-nombregrupo.ipynb*.\n",
    "4. Se recomienda seguir las recomendaciones de estilo descritas en [PEP 8](https://www.python.org/dev/peps/pep-0008/) a la hora de programar.\n",
    "5. El tiempo para la realización de los laboratorios es extenso, por lo que solo se recibirán entregas hasta las 23:59 del día de entrega **a menos que se especifique lo contrario**. Entregas fuera del plazo serán calificadas con nota 0.\n",
    "6. Antes de entregar su laboratorio verifique su **reproducibilidad**. Jupyter Notebooks con errores a la hora de ejecutarse serán penalizados con descuentos.\n",
    "7. Solo un integrante por grupo debe realizar la entrega por Aula."
   ]
  },
  {
   "cell_type": "markdown",
   "id": "c50a3461",
   "metadata": {},
   "source": [
    "<div id='experience' />\n",
    "\n",
    "## Experiencia\n",
    "\n",
    "En el presente laboratorio experimentaremos con las **pruebas de hipótesis**. Se comenzará evidenciando las implicancias del **teorema del límite central**, luego se diseñarán pruebas de hipótesis clásicas considerando muestras grandes y pequeñas. Finalmente, se presentará la **prueba de permutación** la cual ofrece un esquema para decidir si dos muestras provienen o no de la misma distribución **sin importar la distribución subyacente de los datos**. "
   ]
  },
  {
   "cell_type": "markdown",
   "id": "39c2a58d",
   "metadata": {},
   "source": [
    "### 0. Importación de librerías"
   ]
  },
  {
   "cell_type": "code",
   "execution_count": null,
   "id": "48244e29",
   "metadata": {},
   "outputs": [],
   "source": [
    "import numpy as np\n",
    "import pandas as pd\n",
    "import math\n",
    "import itertools\n",
    "import matplotlib.pyplot as plt\n",
    "import scipy.stats as sp"
   ]
  },
  {
   "cell_type": "markdown",
   "id": "773dddda",
   "metadata": {},
   "source": [
    "### 1. Funciones útiles"
   ]
  },
  {
   "cell_type": "code",
   "execution_count": null,
   "id": "508d8eab",
   "metadata": {},
   "outputs": [],
   "source": [
    "def get_sample(X,parameters,seed,size=1000):\n",
    "    X = X(*parameters)\n",
    "    sample = X.rvs(size,random_state=seed)\n",
    "    return sample"
   ]
  },
  {
   "cell_type": "code",
   "execution_count": null,
   "id": "ebad003e",
   "metadata": {},
   "outputs": [],
   "source": [
    "def plot_sample(sample,title=\"\",bins=100,figsize=(10,4),xlabel=\"x\",ylabel=\"frecuencia\"):\n",
    "    fig = plt.figure(figsize=figsize)\n",
    "    ax = plt.axes()\n",
    "    ax.hist(sample,bins=bins)\n",
    "    ax.set_title(title)\n",
    "    ax.set_xlabel(xlabel)\n",
    "    ax.set_ylabel(ylabel)\n",
    "    plt.grid(color='gray', linestyle='solid')\n",
    "    plt.show()"
   ]
  },
  {
   "cell_type": "code",
   "execution_count": null,
   "id": "8e9e4cbe",
   "metadata": {},
   "outputs": [],
   "source": [
    "def plot_scatter(x,y,title=\"\",figsize=(10,4),xlabel=\"x\",ylabel=\"y\"):\n",
    "    fig = plt.figure(figsize=figsize)\n",
    "    ax = plt.axes()\n",
    "    ax.plot(x,y,'-ok')\n",
    "    ax.set_title(title)\n",
    "    ax.set_xlabel(xlabel)\n",
    "    ax.set_ylabel(ylabel)\n",
    "    plt.grid(color='gray', linestyle='solid')\n",
    "    plt.show() "
   ]
  },
  {
   "cell_type": "markdown",
   "id": "2abb99cb",
   "metadata": {},
   "source": [
    "<div id='tcl' />\n",
    "\n",
    "### 2. Teorema del límite central (15 pts.)"
   ]
  },
  {
   "cell_type": "markdown",
   "id": "ff60f447",
   "metadata": {},
   "source": [
    "Sea $\\{X_i\\}$ una muestra independiente e identicamente distribuida donde $\\mu = E[X_i]$  y $ \\sigma^2 = V[X_i]$. El teorema del límite central plantea que el promedio muestral $\\overline{X_n}$ converge a una distribucion $N(\\mu, \\frac{\\sigma^2}{n})$ a medida que $n \\rightarrow \\infty$. Esto es notable porque no es necesario ningún supuesto sobre $X_i$ más que la existencia de su media y varianza. La utilidad más evidente de este teorema es que declaraciones de probabilidad sobre $\\overline{X}_n$ pueden ser aproximadas utilizando una distribución normal."
   ]
  },
  {
   "cell_type": "markdown",
   "id": "e1d415dd",
   "metadata": {},
   "source": [
    "1.1) Elija su variable aleatoria favorita **(0 pts)**:"
   ]
  },
  {
   "cell_type": "code",
   "execution_count": null,
   "id": "563dce3a",
   "metadata": {},
   "outputs": [],
   "source": [
    "def get_random_variable(option):\n",
    "    if(option == 1):\n",
    "        return sp.logistic()\n",
    "    elif(option == 2):\n",
    "        return sp.t(21)\n",
    "    elif(option == 3):\n",
    "        return sp.pareto(21)\n",
    "    else:\n",
    "        raise ValueError(f\"option parameter should be between 1 and 3\")"
   ]
  },
  {
   "cell_type": "markdown",
   "id": "0b282d7f",
   "metadata": {},
   "source": [
    "**Respuesta:**"
   ]
  },
  {
   "cell_type": "code",
   "execution_count": null,
   "id": "34562199",
   "metadata": {},
   "outputs": [],
   "source": [
    "option = ...\n",
    "X = get_random_variable(option)"
   ]
  },
  {
   "cell_type": "markdown",
   "id": "5f5e6628",
   "metadata": {},
   "source": [
    "1.2) Compruebe experimentalmente que el promedio empírico $\\overline{X}$ de muestras generadas con $X$ convergen a $E[X]$ a medida que el tamaño de la muestra aumenta **(5 pts.)**\n",
    "\n",
    "**Respuesta:**"
   ]
  },
  {
   "cell_type": "markdown",
   "id": "50e87eab",
   "metadata": {},
   "source": [
    "1.3) Compruebe experimentalmente que la varianza $S^2$ del promedio empírico $\\overline{X}$ de muestras generadas con $X$ convergen a $\\frac{V[X]}{n}$ a medida que el tamaño de la muestra aumenta **(5 pts.)**\n",
    "\n",
    "**Respuesta:**"
   ]
  },
  {
   "cell_type": "markdown",
   "id": "7cc5374f",
   "metadata": {},
   "source": [
    "1.4) Grafique cómo la distribución del promedio empírico $\\overline{X}$ de muestras generadas con $X$ convergen a una distribución $N(E[X], \\frac{V[X]}{n})$ a medida que el tamaño de la muestra aumenta **(5 pts.)**\n",
    "\n",
    "> Sus visualizaciones deben hablar por sí solas! utilice títulos y nombre adecuados en los ejes.\n",
    "\n",
    "**Respuesta:**"
   ]
  },
  {
   "cell_type": "markdown",
   "id": "5de1f9ea",
   "metadata": {},
   "source": [
    "<div id='hp' />\n",
    "\n",
    "### 2. Prueba de hipótesis (50 pts.)\n",
    "\n",
    "La prueba de hipótesis es un área de la Inferencia Estadística que plantea una serie de métodos para decidir si una afirmación conocida ($H_0$) sobre una población se puede considerar aún plausible bajo la presencia de nuevos datos. \n",
    "\n",
    "> \"Hypothesis testing is like a legal trial. We assume someone is innocent unless the evidence strongly suggests that he is guilty. Similarly, we retain $H_0$ unless there is strong evidence to reject $H_0$.\"\n"
   ]
  },
  {
   "cell_type": "markdown",
   "id": "5063d352",
   "metadata": {},
   "source": [
    "2.1) Defina brevemente los siguientes elementos fundamentales de una prueba de hipótesis **(10 pts)**:\n",
    "1. Hipótesis nula $H_0$:\n",
    "2. Hipótesis alternativa $H_1$:\n",
    "3. Estadístico de prueba:\n",
    "4. P-Value:\n",
    "5. Error de tipo 1:\n",
    "6. Error de tipo 2:\n",
    "7. Región crítica:\n",
    "**Respuesta:**"
   ]
  },
  {
   "cell_type": "markdown",
   "id": "d1824a1a",
   "metadata": {},
   "source": [
    "2.2) Defina la función ``hypothesis_test(sample,null_value,alpha)`` que realiza una prueba de hipótesis considerando la muestra ``sample`` (definida en la siguiente celda) y las hipótesis $H_0: \\mu = 20.5$ y $H_1: \\mu \\neq 20.5$ considerando un nivel de significancia $\\alpha = 0.05$ y el promedio muestral como estadístico de prueba **(10 pts.)**\n",
    "\n",
    "> Considere como **valor de retorno** un valor booleano que indica si H0 se rechaza o no.\n",
    "\n",
    "**Respuesta:**"
   ]
  },
  {
   "cell_type": "code",
   "execution_count": null,
   "id": "06285ea6",
   "metadata": {},
   "outputs": [],
   "source": [
    "sample = get_sample(sp.norm,[21,5],seed=21,size=100)"
   ]
  },
  {
   "cell_type": "code",
   "execution_count": null,
   "id": "892465c7",
   "metadata": {},
   "outputs": [],
   "source": [
    "def hypothesis_test(sample,null_value,alpha):\n",
    "    \n",
    "    # Get sample statistics\n",
    "    n = ...\n",
    "    sample_mean = ...\n",
    "    sample_std = ...\n",
    "    \n",
    "    # Get z (value of test statistic)\n",
    "    z = ...\n",
    "    \n",
    "    # Get P-value\n",
    "    Z = ...\n",
    "    P_value =  ...\n",
    "    \n",
    "    # Show P-value\n",
    "    print(f\"P-value is: {P_value}\")\n",
    "    \n",
    "    # H0 is rejected?\n",
    "    print(\"H0 is rejected\") if ... else print(\"H0 is not rejected\")\n",
    "    \n",
    "    return ..."
   ]
  },
  {
   "cell_type": "code",
   "execution_count": null,
   "id": "db53cd19",
   "metadata": {},
   "outputs": [],
   "source": [
    "hypothesis_test(sample,20.5,0.05)"
   ]
  },
  {
   "cell_type": "markdown",
   "id": "ae48b361",
   "metadata": {},
   "source": [
    "2.3) Comente los resultados de la prueba de hipótesis realizada en 2.2, además, interprete el P-value obtenido **(5 pts.)**\n",
    "\n",
    "**Respuesta:** "
   ]
  },
  {
   "cell_type": "markdown",
   "id": "52497e47",
   "metadata": {},
   "source": [
    "2.4) ¿Qué ocurre con el resultado de la prueba de hipótesis realizada en 2.2 a medida que el tamaño de la muestra aumenta?, ¿por qué? **(5 pts.)**\n",
    "\n",
    "**Respuesta:**"
   ]
  },
  {
   "cell_type": "markdown",
   "id": "a846aa0e",
   "metadata": {},
   "source": [
    "2.5) Defina la función ``get_threshold(sample,null_value,alpha)`` que retorna el valor límite (valor crítico) para el promedio muestral que permite considerar $H_0$ aún plausible en base a la muestra ``sample``, el valor nulo ``null_value`` y el nivel de significancia ``alpha`` **(10 pts.)**\n",
    "\n",
    "La siguiente imagen puede ser de ayuda, aunque debe considerar que es este caso estamos realizando una prueba de hipótesis \"two-sided\":"
   ]
  },
  {
   "cell_type": "markdown",
   "id": "6a8c3c8e",
   "metadata": {},
   "source": [
    "<center>\n",
    "    <img src=\"errors.png\" style=\"width:60%\">\n",
    "</center>"
   ]
  },
  {
   "cell_type": "markdown",
   "id": "9f5212d2",
   "metadata": {},
   "source": [
    "**Respuesta:**"
   ]
  },
  {
   "cell_type": "code",
   "execution_count": null,
   "id": "d5e9267c",
   "metadata": {},
   "outputs": [],
   "source": [
    "def get_threshold(sample,null_value,alpha):\n",
    "    \n",
    "    # Get sample statistics\n",
    "    n = ...\n",
    "    sample_mean = ...\n",
    "    sample_std = ...\n",
    "    \n",
    "    # Define N\n",
    "    N = ...\n",
    "    \n",
    "    # Get threshold\n",
    "    threshold = ...\n",
    "    print(f\"Threshold: {threshold}\")\n",
    "    \n",
    "    return threshold"
   ]
  },
  {
   "cell_type": "code",
   "execution_count": null,
   "id": "cff6a16f",
   "metadata": {},
   "outputs": [],
   "source": [
    "threshold = get_threshold(sample,20.5,0.05)"
   ]
  },
  {
   "cell_type": "code",
   "execution_count": null,
   "id": "35ea5e89",
   "metadata": {},
   "outputs": [],
   "source": [
    "#hypothesis_test(sample,threshold,0.05)"
   ]
  },
  {
   "cell_type": "markdown",
   "id": "a3999f55",
   "metadata": {},
   "source": [
    "2.5) Cuando el tamaño de la muestra es pequeño sabemos que el teorema del límite central es impreciso, lo que implica que nuestra prueba de hipótesis lo es también. Defina la función ``hypothesis_test_2(sample,null_value,alpha)`` que realiza una prueba de hipótesis igual a la realizada en la pregunta 2.2 pero que permita evitar el problema mencionado respecto a las muestras pequeñas **(10 pts.)**\n",
    "\n",
    "> Considere como **valor de retorno** un valor booleano que indica si H0 se rechaza o no."
   ]
  },
  {
   "cell_type": "code",
   "execution_count": null,
   "id": "5f4a28fb",
   "metadata": {},
   "outputs": [],
   "source": [
    "def hypothesis_test_2(sample,null_value,alpha):\n",
    "    \n",
    "    ...\n",
    "    \n",
    "    return ..."
   ]
  },
  {
   "cell_type": "code",
   "execution_count": null,
   "id": "caa8a28a",
   "metadata": {},
   "outputs": [],
   "source": [
    "hypothesis_test_2(sample,20.5,0.05)"
   ]
  },
  {
   "cell_type": "markdown",
   "id": "ad7c97ce",
   "metadata": {},
   "source": [
    "<div id='pt' />\n",
    "\n",
    "### 3. Prueba de permutación (35 pts.)\n",
    "\n",
    "La prueba de permutación (permutation test) es un método no parámetrico para probar si dos muestras distintas provienen de la misma distribución de probabilidad. Dadas dos muestras independientes $\\{X_i\\}$ e $\\{Y_j\\}$ distribuidas respectivamente por $F_X$ e $F_Y$ y la hipótesis nula $H_0$: $F_X = F_Y$ el procedimento para una prueba de permutación considerando un estadístico de prueba $T(X_1,\\dots,X_{m-1},X_m,Y_1,\\dots,Y_{n-1}, Y_n)$ queda descrito a continuación:\n",
    "\n",
    "1. Calcular el valor observado del estadístico de prueba: $t = T(X_1,\\dots,X_{m-1},X_m,Y_1,\\dots,Y_{n-1}, Y_n)$\n",
    "2. Computar las $N! = (m + n)!$ permutaciones del vector que contiene los datos de ambas muestras $(X_1,\\dots,X_{m-1},X_m,Y_1,\\dots,Y_{n-1}, Y_n)$\n",
    "3. Calcular el estadístico de prueba para cada una de las $N!$ permutaciones.\n",
    "4. Calcular el P-value $P(T > t) = \\frac{1}{N!} \\sum_{i = 1}^{N!} I(T_i > t)$.\n",
    "5. Decidir en base a P-value y alpha."
   ]
  },
  {
   "cell_type": "markdown",
   "id": "3bd6cc99",
   "metadata": {},
   "source": [
    "3.1) Defina la función ``permutation_test(X,Y,alpha)`` que realiza una prueba de permutación considerando las muestras ``X`` e ``Y``, un nivel de confianza ``alpha`` y el estadístico de prueba $T(X,Y) = |\\overline{X} - \\overline{Y}|$ **(15 pts.)**\n",
    "\n",
    "> Considere como **valor de retorno** un valor booleano que indica si H0 se rechaza o no.\n",
    "\n",
    "**Respuesta:**"
   ]
  },
  {
   "cell_type": "code",
   "execution_count": null,
   "id": "2f43897d",
   "metadata": {},
   "outputs": [],
   "source": [
    "def permutation_test(X,Y,alpha):\n",
    "    \n",
    "    # Get sample sizes\n",
    "    m = ...\n",
    "    n = ...\n",
    "    \n",
    "    # Concatenate samples\n",
    "    sample = ...\n",
    "    \n",
    "    # Step 1: Get t (value of test statistic)\n",
    "    t = ...\n",
    "    \n",
    "    # Step 2: Get N! permutations\n",
    "    permutations = ...\n",
    "    \n",
    "    # Step 3: Get sample statistic for every permutation\n",
    "    sample_statistic_values = ...\n",
    "    \n",
    "    # Step 4: Get P-Value\n",
    "    P_value = ...\n",
    "    \n",
    "    # Show P-value\n",
    "    print(f\"P-value is: {P_value}\")\n",
    "    \n",
    "    # Step 5: Decide\n",
    "    # H0 is rejected?\n",
    "    print(\"H0 is rejected\") if ... else print(\"H0 is not rejected\")\n",
    "    \n",
    "    return ..."
   ]
  },
  {
   "cell_type": "markdown",
   "id": "7b4b5a49",
   "metadata": {},
   "source": [
    "3.2) Realice una prueba de permutación considerando las muestras ``sample_x`` y ``sample_y`` definidas en la siguiente celda. Comente su resultado e interprete el P-value **(5 pts.)**"
   ]
  },
  {
   "cell_type": "code",
   "execution_count": null,
   "id": "560fdaa9",
   "metadata": {},
   "outputs": [],
   "source": [
    "sample_x = list(sp.poisson(100).rvs(4,random_state=11))\n",
    "sample_y = list(sp.poisson(80).rvs(4,random_state=11))"
   ]
  },
  {
   "cell_type": "markdown",
   "id": "6d01d623",
   "metadata": {},
   "source": [
    "**Respuesta:**"
   ]
  },
  {
   "cell_type": "code",
   "execution_count": null,
   "id": "87b9f985",
   "metadata": {},
   "outputs": [],
   "source": [
    "permutation_test(sample_x,sample_y,0.05)"
   ]
  },
  {
   "cell_type": "markdown",
   "id": "99b1198c",
   "metadata": {},
   "source": [
    "3.3) Evidentemente la generación de $N!$ permutaciones es extremadamente costoso, por ejemplo si cada muestra consiste de 25 elementos se necesitarían generar $50! = 30414093201713378043612608166064768844377641568960512000000000000$ permutaciones. Plantee un algoritmo (paso a paso) que permita realizar una prueba de permutación evitando este problema **(5 pts.)**\n",
    "\n",
    "**Respuesta:**"
   ]
  },
  {
   "cell_type": "markdown",
   "id": "75aefa7c",
   "metadata": {},
   "source": [
    "3.4) Defina la función ``permutation_test_2(...)`` que realiza la prueba de permutación utilizando su algoritmo planteado en la pregunta 3.3  **(10 pts.)**\n",
    "\n",
    "> Considere como **valor de retorno** un valor booleano que indica si H0 se rechaza o no.\n",
    "\n",
    "**Respuesta:**"
   ]
  },
  {
   "cell_type": "code",
   "execution_count": null,
   "id": "01d0ce94",
   "metadata": {},
   "outputs": [],
   "source": [
    "def permutation_test_2(X,Y,alpha,size):\n",
    "    ...\n",
    "    return ..."
   ]
  },
  {
   "cell_type": "code",
   "execution_count": null,
   "id": "04a20748",
   "metadata": {},
   "outputs": [],
   "source": [
    "permutation_test_2(sample_x,sample_y,0.05,1000)"
   ]
  },
  {
   "cell_type": "markdown",
   "id": "81709e3a",
   "metadata": {},
   "source": [
    "## The end of the road (or the beginning of a new one) "
   ]
  },
  {
   "cell_type": "code",
   "execution_count": null,
   "id": "664a1b6e",
   "metadata": {},
   "outputs": [],
   "source": [
    "print(\"\"\"\n",
    "Felicitaciones ! Acabas de completar el cuarto y último LEC. Espero haya sido una enriquecedora experiencia\n",
    "de aprendizaje :') \n",
    "\"\"\")"
   ]
  },
  {
   "cell_type": "markdown",
   "id": "1f63cbc4",
   "metadata": {},
   "source": [
    "En esta ocasión, el laboratorio será corregido **rigurosamente** por la siguiente función : "
   ]
  },
  {
   "cell_type": "code",
   "execution_count": null,
   "id": "2e8fe56b",
   "metadata": {},
   "outputs": [],
   "source": [
    "def get_grade():\n",
    "    return sp.uniform(0,100).rvs()"
   ]
  },
  {
   "cell_type": "code",
   "execution_count": null,
   "id": "35242ec1",
   "metadata": {},
   "outputs": [],
   "source": [
    "grade = get_grade()"
   ]
  },
  {
   "cell_type": "code",
   "execution_count": null,
   "id": "6ff6a6c9",
   "metadata": {},
   "outputs": [],
   "source": [
    "print(f\"Que buena noticia! obtuviste un {grade}.\")"
   ]
  }
 ],
 "metadata": {
  "interpreter": {
   "hash": "767d51c1340bd893661ea55ea3124f6de3c7a262a8b4abca0554b478b1e2ff90"
  },
  "kernelspec": {
   "display_name": "Python 3",
   "language": "python",
   "name": "python3"
  },
  "language_info": {
   "codemirror_mode": {
    "name": "ipython",
    "version": 3
   },
   "file_extension": ".py",
   "mimetype": "text/x-python",
   "name": "python",
   "nbconvert_exporter": "python",
   "pygments_lexer": "ipython3",
   "version": "3.8.8"
  }
 },
 "nbformat": 4,
 "nbformat_minor": 5
}
